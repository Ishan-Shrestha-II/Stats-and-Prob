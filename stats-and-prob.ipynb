{
 "cells": [
  {
   "cell_type": "markdown",
   "metadata": {},
   "source": [
    "# Statistics and Probability"
   ]
  },
  {
   "cell_type": "markdown",
   "metadata": {},
   "source": [
    "## 1. Descriptive Statistics"
   ]
  },
  {
   "cell_type": "code",
   "execution_count": 44,
   "metadata": {},
   "outputs": [
    {
     "data": {
      "text/html": [
       "<div>\n",
       "<style scoped>\n",
       "    .dataframe tbody tr th:only-of-type {\n",
       "        vertical-align: middle;\n",
       "    }\n",
       "\n",
       "    .dataframe tbody tr th {\n",
       "        vertical-align: top;\n",
       "    }\n",
       "\n",
       "    .dataframe thead th {\n",
       "        text-align: right;\n",
       "    }\n",
       "</style>\n",
       "<table border=\"1\" class=\"dataframe\">\n",
       "  <thead>\n",
       "    <tr style=\"text-align: right;\">\n",
       "      <th></th>\n",
       "      <th>Id</th>\n",
       "      <th>SepalLengthCm</th>\n",
       "      <th>SepalWidthCm</th>\n",
       "      <th>PetalLengthCm</th>\n",
       "      <th>PetalWidthCm</th>\n",
       "    </tr>\n",
       "  </thead>\n",
       "  <tbody>\n",
       "    <tr>\n",
       "      <th>0</th>\n",
       "      <td>1</td>\n",
       "      <td>5.1</td>\n",
       "      <td>3.5</td>\n",
       "      <td>1.4</td>\n",
       "      <td>0.2</td>\n",
       "    </tr>\n",
       "    <tr>\n",
       "      <th>1</th>\n",
       "      <td>2</td>\n",
       "      <td>4.9</td>\n",
       "      <td>3.0</td>\n",
       "      <td>1.4</td>\n",
       "      <td>0.2</td>\n",
       "    </tr>\n",
       "    <tr>\n",
       "      <th>2</th>\n",
       "      <td>3</td>\n",
       "      <td>4.7</td>\n",
       "      <td>3.2</td>\n",
       "      <td>1.3</td>\n",
       "      <td>0.2</td>\n",
       "    </tr>\n",
       "    <tr>\n",
       "      <th>3</th>\n",
       "      <td>4</td>\n",
       "      <td>4.6</td>\n",
       "      <td>3.1</td>\n",
       "      <td>1.5</td>\n",
       "      <td>0.2</td>\n",
       "    </tr>\n",
       "    <tr>\n",
       "      <th>4</th>\n",
       "      <td>5</td>\n",
       "      <td>5.0</td>\n",
       "      <td>3.6</td>\n",
       "      <td>1.4</td>\n",
       "      <td>0.2</td>\n",
       "    </tr>\n",
       "  </tbody>\n",
       "</table>\n",
       "</div>"
      ],
      "text/plain": [
       "   Id  SepalLengthCm  SepalWidthCm  PetalLengthCm  PetalWidthCm\n",
       "0   1            5.1           3.5            1.4           0.2\n",
       "1   2            4.9           3.0            1.4           0.2\n",
       "2   3            4.7           3.2            1.3           0.2\n",
       "3   4            4.6           3.1            1.5           0.2\n",
       "4   5            5.0           3.6            1.4           0.2"
      ]
     },
     "execution_count": 44,
     "metadata": {},
     "output_type": "execute_result"
    }
   ],
   "source": [
    "import pandas as pd\n",
    "import numpy as np\n",
    "import matplotlib as mlt\n",
    "Iris=pd.read_csv('./Resources/Iris.csv')\n",
    "Iris.head()"
   ]
  },
  {
   "cell_type": "markdown",
   "metadata": {},
   "source": [
    "a. Compute the mean, median, and standard deviation for all numerical features.  "
   ]
  },
  {
   "cell_type": "markdown",
   "metadata": {},
   "source": [
    "* Mean"
   ]
  },
  {
   "cell_type": "code",
   "execution_count": 45,
   "metadata": {},
   "outputs": [
    {
     "name": "stdout",
     "output_type": "stream",
     "text": [
      "SepalLengthCm_mean=5.843333333333334\n",
      "SepalWidthCm_mean=5.843333333333334\n",
      "PetalLengthCm_mean=3.758666666666666\n",
      "PetalWidthCm_mean=1.1986666666666668\n"
     ]
    }
   ],
   "source": [
    "SepalLengthCm_mean = Iris.SepalLengthCm.mean()\n",
    "SepalWidthCm_mean = Iris.SepalLengthCm.mean()\n",
    "PetalLengthCm_mean = Iris.PetalLengthCm.mean()\n",
    "PetalWidthCm_mean =Iris.PetalWidthCm.mean()\n",
    "print(f'SepalLengthCm_mean={SepalLengthCm_mean}\\nSepalWidthCm_mean={SepalWidthCm_mean}\\nPetalLengthCm_mean={PetalLengthCm_mean}\\nPetalWidthCm_mean={PetalWidthCm_mean}')"
   ]
  },
  {
   "cell_type": "markdown",
   "metadata": {},
   "source": [
    "* Median"
   ]
  },
  {
   "cell_type": "code",
   "execution_count": 46,
   "metadata": {},
   "outputs": [
    {
     "name": "stdout",
     "output_type": "stream",
     "text": [
      "SepalLengthCm_median=5.8\n",
      "SepalWidthCm_median=5.8\n",
      "PetalLengthCm_median=4.35\n",
      "PetalWidthCm_median=1.3\n"
     ]
    }
   ],
   "source": [
    "SepalLengthCm_median = Iris.SepalLengthCm.median()\n",
    "SepalWidthCm_median = Iris.SepalLengthCm.median()\n",
    "PetalLengthCm_median = Iris.PetalLengthCm.median()\n",
    "PetalWidthCm_median =Iris.PetalWidthCm.median()\n",
    "print(f'SepalLengthCm_median={SepalLengthCm_median}\\nSepalWidthCm_median={SepalWidthCm_median}\\nPetalLengthCm_median={PetalLengthCm_median}\\nPetalWidthCm_median={PetalWidthCm_median}')"
   ]
  },
  {
   "cell_type": "markdown",
   "metadata": {},
   "source": [
    "* Standard Deviation"
   ]
  },
  {
   "cell_type": "code",
   "execution_count": 47,
   "metadata": {},
   "outputs": [
    {
     "name": "stdout",
     "output_type": "stream",
     "text": [
      "SepalLengthCm_sd=0.828066127977863\n",
      "SepalWidthCm_sd=0.828066127977863\n",
      "PetalLengthCm_sd=1.7644204199522626\n",
      "PetalWidthCm_sd=0.7631607417008411\n"
     ]
    }
   ],
   "source": [
    "SepalLengthCm_sd = Iris.SepalLengthCm.std()\n",
    "SepalWidthCm_sd = Iris.SepalLengthCm.std()\n",
    "PetalLengthCm_sd = Iris.PetalLengthCm.std()\n",
    "PetalWidthCm_sd =Iris.PetalWidthCm.std()\n",
    "print(f'SepalLengthCm_sd={SepalLengthCm_sd}\\nSepalWidthCm_sd={SepalWidthCm_sd}\\nPetalLengthCm_sd={PetalLengthCm_sd}\\nPetalWidthCm_sd={PetalWidthCm_sd}')"
   ]
  },
  {
   "cell_type": "markdown",
   "metadata": {},
   "source": [
    " b. Create histograms and boxplots for feature distributions."
   ]
  },
  {
   "cell_type": "markdown",
   "metadata": {},
   "source": [
    " c. Calculate the correlation matrix for the features."
   ]
  },
  {
   "cell_type": "code",
   "execution_count": 48,
   "metadata": {},
   "outputs": [
    {
     "data": {
      "text/html": [
       "<div>\n",
       "<style scoped>\n",
       "    .dataframe tbody tr th:only-of-type {\n",
       "        vertical-align: middle;\n",
       "    }\n",
       "\n",
       "    .dataframe tbody tr th {\n",
       "        vertical-align: top;\n",
       "    }\n",
       "\n",
       "    .dataframe thead th {\n",
       "        text-align: right;\n",
       "    }\n",
       "</style>\n",
       "<table border=\"1\" class=\"dataframe\">\n",
       "  <thead>\n",
       "    <tr style=\"text-align: right;\">\n",
       "      <th></th>\n",
       "      <th>Id</th>\n",
       "      <th>SepalLengthCm</th>\n",
       "      <th>SepalWidthCm</th>\n",
       "      <th>PetalLengthCm</th>\n",
       "      <th>PetalWidthCm</th>\n",
       "    </tr>\n",
       "  </thead>\n",
       "  <tbody>\n",
       "    <tr>\n",
       "      <th>Id</th>\n",
       "      <td>1.000000</td>\n",
       "      <td>0.716676</td>\n",
       "      <td>-0.397729</td>\n",
       "      <td>0.882747</td>\n",
       "      <td>0.899759</td>\n",
       "    </tr>\n",
       "    <tr>\n",
       "      <th>SepalLengthCm</th>\n",
       "      <td>0.716676</td>\n",
       "      <td>1.000000</td>\n",
       "      <td>-0.109369</td>\n",
       "      <td>0.871754</td>\n",
       "      <td>0.817954</td>\n",
       "    </tr>\n",
       "    <tr>\n",
       "      <th>SepalWidthCm</th>\n",
       "      <td>-0.397729</td>\n",
       "      <td>-0.109369</td>\n",
       "      <td>1.000000</td>\n",
       "      <td>-0.420516</td>\n",
       "      <td>-0.356544</td>\n",
       "    </tr>\n",
       "    <tr>\n",
       "      <th>PetalLengthCm</th>\n",
       "      <td>0.882747</td>\n",
       "      <td>0.871754</td>\n",
       "      <td>-0.420516</td>\n",
       "      <td>1.000000</td>\n",
       "      <td>0.962757</td>\n",
       "    </tr>\n",
       "    <tr>\n",
       "      <th>PetalWidthCm</th>\n",
       "      <td>0.899759</td>\n",
       "      <td>0.817954</td>\n",
       "      <td>-0.356544</td>\n",
       "      <td>0.962757</td>\n",
       "      <td>1.000000</td>\n",
       "    </tr>\n",
       "  </tbody>\n",
       "</table>\n",
       "</div>"
      ],
      "text/plain": [
       "                     Id  SepalLengthCm  SepalWidthCm  PetalLengthCm  \\\n",
       "Id             1.000000       0.716676     -0.397729       0.882747   \n",
       "SepalLengthCm  0.716676       1.000000     -0.109369       0.871754   \n",
       "SepalWidthCm  -0.397729      -0.109369      1.000000      -0.420516   \n",
       "PetalLengthCm  0.882747       0.871754     -0.420516       1.000000   \n",
       "PetalWidthCm   0.899759       0.817954     -0.356544       0.962757   \n",
       "\n",
       "               PetalWidthCm  \n",
       "Id                 0.899759  \n",
       "SepalLengthCm      0.817954  \n",
       "SepalWidthCm      -0.356544  \n",
       "PetalLengthCm      0.962757  \n",
       "PetalWidthCm       1.000000  "
      ]
     },
     "execution_count": 48,
     "metadata": {},
     "output_type": "execute_result"
    }
   ],
   "source": [
    "Matrix=Iris.corr()\n",
    "Matrix"
   ]
  },
  {
   "cell_type": "markdown",
   "metadata": {},
   "source": [
    " d. Interpret which features are most correlated with each other."
   ]
  },
  {
   "cell_type": "markdown",
   "metadata": {},
   "source": [
    "The most correlated features are PetalLength and PetalWidth with correlation coefficient of 0.9627."
   ]
  },
  {
   "cell_type": "markdown",
   "metadata": {},
   "source": [
    "## 2. Conditional Probability"
   ]
  },
  {
   "cell_type": "markdown",
   "metadata": {},
   "source": [
    "Given the following table of events, compute P(A∣B) and P(B∣A).<br>\n",
    "<img src='./Resources/Question-2-table.png'>\n"
   ]
  },
  {
   "cell_type": "code",
   "execution_count": 49,
   "metadata": {},
   "outputs": [
    {
     "name": "stdout",
     "output_type": "stream",
     "text": [
      "P(A | B) = 0.375\n",
      "P(B | A) = 0.6\n"
     ]
    }
   ],
   "source": [
    "A_and_B = 30  \n",
    "A_and_not_B = 20  \n",
    "not_A_and_B = 50  \n",
    "not_A_and_not_B = 100  \n",
    "total_A = A_and_B + A_and_not_B\n",
    "total_B = A_and_B + not_A_and_B\n",
    "P_A_given_B = A_and_B / total_B\n",
    "P_B_given_A = A_and_B / total_A\n",
    "print(f\"P(A | B) = {P_A_given_B}\")\n",
    "print(f\"P(B | A) = {P_B_given_A}\")"
   ]
  },
  {
   "cell_type": "markdown",
   "metadata": {},
   "source": [
    "## 3. Bayes' Theorem"
   ]
  },
  {
   "cell_type": "markdown",
   "metadata": {},
   "source": [
    "A model classifies spam emails with the following probabilities:<br>\n",
    "    P(Spam)=0.2<br>\n",
    "    P(Not Spam)=0.8<br>\n",
    "    P(Keyword | Spam)=0.7<Br>\n",
    "    P(Keyword | Not Spam)=0.1<br>\n",
    "\n",
    "Compute the probability that an email is spam given that it contains the keyword."
   ]
  },
  {
   "cell_type": "code",
   "execution_count": 50,
   "metadata": {},
   "outputs": [
    {
     "name": "stdout",
     "output_type": "stream",
     "text": [
      "P(Spam | Keyword) = 0.636\n"
     ]
    }
   ],
   "source": [
    "P_spam = 0.2\n",
    "P_not_spam = 0.8\n",
    "P_keyword_given_spam = 0.7\n",
    "P_keyword_given_not_spam = 0.1\n",
    "P_keyword = (P_keyword_given_spam * P_spam) + (P_keyword_given_not_spam * P_not_spam)\n",
    "P_spam_given_keyword = (P_keyword_given_spam * P_spam) / P_keyword\n",
    "print(f\"P(Spam | Keyword) = {P_spam_given_keyword:.3f}\")"
   ]
  },
  {
   "cell_type": "markdown",
   "metadata": {},
   "source": [
    "## 4. Outlier Detection, Removal, and Feature Scaling"
   ]
  },
  {
   "cell_type": "markdown",
   "metadata": {},
   "source": [
    "Choose a dataset on your own and perform the following operation\n",
    "* Compute Q1 (25th percentile) and Q3 (75th percentile) for each feature.\n",
    "* Calculate the IQR (IQR=Q3−Q1).\n",
    "* Define outliers as values outside the range [Q1−1.5⋅IQR,Q3+1.5⋅IQR].\n",
    "* Create a function to detect and remove outliers for all numerical features.\n",
    "* Plot boxplots of features before and after outlier removal.  \n",
    "* Plot histograms of a few features before and after applying normalization and standardization."
   ]
  }
 ],
 "metadata": {
  "kernelspec": {
   "display_name": "Python 3",
   "language": "python",
   "name": "python3"
  },
  "language_info": {
   "codemirror_mode": {
    "name": "ipython",
    "version": 3
   },
   "file_extension": ".py",
   "mimetype": "text/x-python",
   "name": "python",
   "nbconvert_exporter": "python",
   "pygments_lexer": "ipython3",
   "version": "3.13.1"
  }
 },
 "nbformat": 4,
 "nbformat_minor": 2
}
